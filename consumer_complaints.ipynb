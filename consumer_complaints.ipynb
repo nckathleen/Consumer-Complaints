{
 "cells": [
  {
   "cell_type": "code",
   "execution_count": 1,
   "metadata": {
    "collapsed": true
   },
   "outputs": [],
   "source": [
    "import pandas as pd\n",
    "import numpy as np\n",
    "import matplotlib.pyplot as plt\n",
    "%matplotlib inline"
   ]
  },
  {
   "cell_type": "code",
   "execution_count": 2,
   "metadata": {
    "collapsed": false
   },
   "outputs": [],
   "source": [
    "complaints = pd.read_csv('complaints_dec_2014.csv')"
   ]
  },
  {
   "cell_type": "code",
   "execution_count": 3,
   "metadata": {
    "collapsed": false,
    "scrolled": false
   },
   "outputs": [
    {
     "data": {
      "text/html": [
       "<div>\n",
       "<table border=\"1\" class=\"dataframe\">\n",
       "  <thead>\n",
       "    <tr style=\"text-align: right;\">\n",
       "      <th></th>\n",
       "      <th>Complaint ID</th>\n",
       "      <th>Product</th>\n",
       "      <th>Sub-product</th>\n",
       "      <th>Issue</th>\n",
       "      <th>Sub-issue</th>\n",
       "      <th>State</th>\n",
       "      <th>ZIP code</th>\n",
       "      <th>Submitted via</th>\n",
       "      <th>Date received</th>\n",
       "      <th>Date sent to company</th>\n",
       "      <th>Company</th>\n",
       "      <th>Company response</th>\n",
       "      <th>Timely response?</th>\n",
       "      <th>Consumer disputed?</th>\n",
       "    </tr>\n",
       "  </thead>\n",
       "  <tbody>\n",
       "    <tr>\n",
       "      <th>0</th>\n",
       "      <td>1177167</td>\n",
       "      <td>Debt collection</td>\n",
       "      <td>NaN</td>\n",
       "      <td>Cont'd attempts collect debt not owed</td>\n",
       "      <td>Debt is not mine</td>\n",
       "      <td>TX</td>\n",
       "      <td>77068</td>\n",
       "      <td>Web</td>\n",
       "      <td>12/31/2014</td>\n",
       "      <td>12/31/2014</td>\n",
       "      <td>Ad Astra Recovery Services Inc</td>\n",
       "      <td>Closed with explanation</td>\n",
       "      <td>Yes</td>\n",
       "      <td>NaN</td>\n",
       "    </tr>\n",
       "    <tr>\n",
       "      <th>1</th>\n",
       "      <td>1177166</td>\n",
       "      <td>Debt collection</td>\n",
       "      <td>NaN</td>\n",
       "      <td>Cont'd attempts collect debt not owed</td>\n",
       "      <td>Debt is not mine</td>\n",
       "      <td>TX</td>\n",
       "      <td>77068</td>\n",
       "      <td>Web</td>\n",
       "      <td>12/31/2014</td>\n",
       "      <td>12/31/2014</td>\n",
       "      <td>Unique Management Services, Inc</td>\n",
       "      <td>Closed with explanation</td>\n",
       "      <td>Yes</td>\n",
       "      <td>NaN</td>\n",
       "    </tr>\n",
       "    <tr>\n",
       "      <th>2</th>\n",
       "      <td>1177165</td>\n",
       "      <td>Debt collection</td>\n",
       "      <td>NaN</td>\n",
       "      <td>Cont'd attempts collect debt not owed</td>\n",
       "      <td>Debt is not mine</td>\n",
       "      <td>TX</td>\n",
       "      <td>77068</td>\n",
       "      <td>Web</td>\n",
       "      <td>12/31/2014</td>\n",
       "      <td>12/31/2014</td>\n",
       "      <td>CL Holdings, LLC</td>\n",
       "      <td>Closed with monetary relief</td>\n",
       "      <td>Yes</td>\n",
       "      <td>NaN</td>\n",
       "    </tr>\n",
       "    <tr>\n",
       "      <th>3</th>\n",
       "      <td>1177164</td>\n",
       "      <td>Debt collection</td>\n",
       "      <td>NaN</td>\n",
       "      <td>Cont'd attempts collect debt not owed</td>\n",
       "      <td>Debt is not mine</td>\n",
       "      <td>TX</td>\n",
       "      <td>77068</td>\n",
       "      <td>Web</td>\n",
       "      <td>12/31/2014</td>\n",
       "      <td>12/31/2014</td>\n",
       "      <td>Enhanced Recovery Company, LLC</td>\n",
       "      <td>Closed with non-monetary relief</td>\n",
       "      <td>Yes</td>\n",
       "      <td>NaN</td>\n",
       "    </tr>\n",
       "    <tr>\n",
       "      <th>4</th>\n",
       "      <td>1177163</td>\n",
       "      <td>Debt collection</td>\n",
       "      <td>NaN</td>\n",
       "      <td>Cont'd attempts collect debt not owed</td>\n",
       "      <td>Debt is not mine</td>\n",
       "      <td>TX</td>\n",
       "      <td>77068</td>\n",
       "      <td>Web</td>\n",
       "      <td>12/31/2014</td>\n",
       "      <td>12/31/2014</td>\n",
       "      <td>Enhanced Acquisitions, LLC</td>\n",
       "      <td>Closed with explanation</td>\n",
       "      <td>Yes</td>\n",
       "      <td>NaN</td>\n",
       "    </tr>\n",
       "    <tr>\n",
       "      <th>5</th>\n",
       "      <td>1177162</td>\n",
       "      <td>Debt collection</td>\n",
       "      <td>NaN</td>\n",
       "      <td>Cont'd attempts collect debt not owed</td>\n",
       "      <td>Debt is not mine</td>\n",
       "      <td>TX</td>\n",
       "      <td>77068</td>\n",
       "      <td>Web</td>\n",
       "      <td>12/31/2014</td>\n",
       "      <td>12/31/2014</td>\n",
       "      <td>Credit Systems International, Inc.</td>\n",
       "      <td>Closed with explanation</td>\n",
       "      <td>Yes</td>\n",
       "      <td>NaN</td>\n",
       "    </tr>\n",
       "    <tr>\n",
       "      <th>6</th>\n",
       "      <td>1177154</td>\n",
       "      <td>Credit card</td>\n",
       "      <td>NaN</td>\n",
       "      <td>Billing disputes</td>\n",
       "      <td>NaN</td>\n",
       "      <td>GA</td>\n",
       "      <td>31322</td>\n",
       "      <td>Web</td>\n",
       "      <td>12/31/2014</td>\n",
       "      <td>01/07/2015</td>\n",
       "      <td>Amex</td>\n",
       "      <td>Closed with explanation</td>\n",
       "      <td>Yes</td>\n",
       "      <td>NaN</td>\n",
       "    </tr>\n",
       "    <tr>\n",
       "      <th>7</th>\n",
       "      <td>1177143</td>\n",
       "      <td>Debt collection</td>\n",
       "      <td>Payday loan</td>\n",
       "      <td>Taking/threatening an illegal action</td>\n",
       "      <td>Threatened arrest/jail if do not pay</td>\n",
       "      <td>AZ</td>\n",
       "      <td>85023</td>\n",
       "      <td>Web</td>\n",
       "      <td>12/31/2014</td>\n",
       "      <td>01/07/2015</td>\n",
       "      <td>Speedy Cash Holdings</td>\n",
       "      <td>Closed</td>\n",
       "      <td>Yes</td>\n",
       "      <td>NaN</td>\n",
       "    </tr>\n",
       "    <tr>\n",
       "      <th>8</th>\n",
       "      <td>1177140</td>\n",
       "      <td>Debt collection</td>\n",
       "      <td>NaN</td>\n",
       "      <td>Cont'd attempts collect debt not owed</td>\n",
       "      <td>Debt is not mine</td>\n",
       "      <td>TX</td>\n",
       "      <td>77045</td>\n",
       "      <td>Web</td>\n",
       "      <td>12/31/2014</td>\n",
       "      <td>12/31/2014</td>\n",
       "      <td>Afni, Inc.</td>\n",
       "      <td>Closed with explanation</td>\n",
       "      <td>Yes</td>\n",
       "      <td>NaN</td>\n",
       "    </tr>\n",
       "    <tr>\n",
       "      <th>9</th>\n",
       "      <td>1177139</td>\n",
       "      <td>Debt collection</td>\n",
       "      <td>NaN</td>\n",
       "      <td>Cont'd attempts collect debt not owed</td>\n",
       "      <td>Debt is not mine</td>\n",
       "      <td>TX</td>\n",
       "      <td>77045</td>\n",
       "      <td>Web</td>\n",
       "      <td>12/31/2014</td>\n",
       "      <td>12/31/2014</td>\n",
       "      <td>Enhanced Recovery Company, LLC</td>\n",
       "      <td>Closed with non-monetary relief</td>\n",
       "      <td>Yes</td>\n",
       "      <td>NaN</td>\n",
       "    </tr>\n",
       "  </tbody>\n",
       "</table>\n",
       "</div>"
      ],
      "text/plain": [
       "   Complaint ID          Product  Sub-product  \\\n",
       "0       1177167  Debt collection          NaN   \n",
       "1       1177166  Debt collection          NaN   \n",
       "2       1177165  Debt collection          NaN   \n",
       "3       1177164  Debt collection          NaN   \n",
       "4       1177163  Debt collection          NaN   \n",
       "5       1177162  Debt collection          NaN   \n",
       "6       1177154      Credit card          NaN   \n",
       "7       1177143  Debt collection  Payday loan   \n",
       "8       1177140  Debt collection          NaN   \n",
       "9       1177139  Debt collection          NaN   \n",
       "\n",
       "                                   Issue  \\\n",
       "0  Cont'd attempts collect debt not owed   \n",
       "1  Cont'd attempts collect debt not owed   \n",
       "2  Cont'd attempts collect debt not owed   \n",
       "3  Cont'd attempts collect debt not owed   \n",
       "4  Cont'd attempts collect debt not owed   \n",
       "5  Cont'd attempts collect debt not owed   \n",
       "6                       Billing disputes   \n",
       "7   Taking/threatening an illegal action   \n",
       "8  Cont'd attempts collect debt not owed   \n",
       "9  Cont'd attempts collect debt not owed   \n",
       "\n",
       "                              Sub-issue State  ZIP code Submitted via  \\\n",
       "0                      Debt is not mine    TX     77068           Web   \n",
       "1                      Debt is not mine    TX     77068           Web   \n",
       "2                      Debt is not mine    TX     77068           Web   \n",
       "3                      Debt is not mine    TX     77068           Web   \n",
       "4                      Debt is not mine    TX     77068           Web   \n",
       "5                      Debt is not mine    TX     77068           Web   \n",
       "6                                   NaN    GA     31322           Web   \n",
       "7  Threatened arrest/jail if do not pay    AZ     85023           Web   \n",
       "8                      Debt is not mine    TX     77045           Web   \n",
       "9                      Debt is not mine    TX     77045           Web   \n",
       "\n",
       "  Date received Date sent to company                             Company  \\\n",
       "0    12/31/2014           12/31/2014      Ad Astra Recovery Services Inc   \n",
       "1    12/31/2014           12/31/2014     Unique Management Services, Inc   \n",
       "2    12/31/2014           12/31/2014                    CL Holdings, LLC   \n",
       "3    12/31/2014           12/31/2014      Enhanced Recovery Company, LLC   \n",
       "4    12/31/2014           12/31/2014          Enhanced Acquisitions, LLC   \n",
       "5    12/31/2014           12/31/2014  Credit Systems International, Inc.   \n",
       "6    12/31/2014           01/07/2015                                Amex   \n",
       "7    12/31/2014           01/07/2015                Speedy Cash Holdings   \n",
       "8    12/31/2014           12/31/2014                          Afni, Inc.   \n",
       "9    12/31/2014           12/31/2014      Enhanced Recovery Company, LLC   \n",
       "\n",
       "                  Company response Timely response? Consumer disputed?  \n",
       "0          Closed with explanation              Yes                NaN  \n",
       "1          Closed with explanation              Yes                NaN  \n",
       "2      Closed with monetary relief              Yes                NaN  \n",
       "3  Closed with non-monetary relief              Yes                NaN  \n",
       "4          Closed with explanation              Yes                NaN  \n",
       "5          Closed with explanation              Yes                NaN  \n",
       "6          Closed with explanation              Yes                NaN  \n",
       "7                           Closed              Yes                NaN  \n",
       "8          Closed with explanation              Yes                NaN  \n",
       "9  Closed with non-monetary relief              Yes                NaN  "
      ]
     },
     "execution_count": 3,
     "metadata": {},
     "output_type": "execute_result"
    }
   ],
   "source": [
    "complaints.head(10)"
   ]
  },
  {
   "cell_type": "markdown",
   "metadata": {},
   "source": [
    "## Consumer complaints by product"
   ]
  },
  {
   "cell_type": "code",
   "execution_count": 4,
   "metadata": {
    "collapsed": false,
    "scrolled": true
   },
   "outputs": [
    {
     "data": {
      "text/plain": [
       "<matplotlib.axes._subplots.AxesSubplot at 0x1064e3cf8>"
      ]
     },
     "execution_count": 4,
     "metadata": {},
     "output_type": "execute_result"
    },
    {
     "data": {
      "image/png": "[encoded data removed]",
      "text/plain": [
       "<matplotlib.figure.Figure at 0x1064e3470>"
      ]
     },
     "metadata": {},
     "output_type": "display_data"
    }
   ],
   "source": [
    "product_count = complaints.Product.value_counts()\n",
    "product_count.plot(title = 'Consumer Complaints by\\nFinancial Product - Dec 2014', kind = 'bar')\n"
   ]
  },
  {
   "cell_type": "markdown",
   "metadata": {},
   "source": [
    "## Consumer complaints by product\n",
    "We can see that consumer complaints about mortgage related issues and debt collection issues are the most frequently occuring (almost 6000 complaints) in the month of December, 2014.  The top ten most problematic products received over 11,500 complaints in one month. "
   ]
  },
  {
   "cell_type": "markdown",
   "metadata": {},
   "source": [
    "## Consumer complaints by company"
   ]
  },
  {
   "cell_type": "code",
   "execution_count": 5,
   "metadata": {
    "collapsed": false,
    "scrolled": true
   },
   "outputs": [
    {
     "data": {
      "text/plain": [
       "<matplotlib.axes._subplots.AxesSubplot at 0x1065a9be0>"
      ]
     },
     "execution_count": 5,
     "metadata": {},
     "output_type": "execute_result"
    },
    {
     "data": {
      "image/png": "[encoded data removed]",
      "text/plain": [
       "<matplotlib.figure.Figure at 0x10660ad68>"
      ]
     },
     "metadata": {},
     "output_type": "display_data"
    }
   ],
   "source": [
    "company_series = complaints.Company.value_counts()\n",
    "company_series.head(10).plot(title='Top Ten Companies Receiving\\nConsumer Complaints - Dec 2014', kind = 'bar')"
   ]
  },
  {
   "cell_type": "markdown",
   "metadata": {},
   "source": [
    "## Consumer complaints by company\n",
    "According to the December, 2014 bar chart above, there appears to be a high rate of consumer dissatisfaction within the financial services industry, particularly lenders and credit bureaus.  Each of the top 10 most complained about had between 250 and 775 complaints in just one month."
   ]
  },
  {
   "cell_type": "markdown",
   "metadata": {},
   "source": [
    "## Consumer complaints by company response"
   ]
  },
  {
   "cell_type": "code",
   "execution_count": 6,
   "metadata": {
    "collapsed": false
   },
   "outputs": [
    {
     "data": {
      "text/plain": [
       "<matplotlib.axes._subplots.AxesSubplot at 0x10668b780>"
      ]
     },
     "execution_count": 6,
     "metadata": {},
     "output_type": "execute_result"
    },
    {
     "data": {
      "image/png": "[encoded data removed]",
      "text/plain": [
       "<matplotlib.figure.Figure at 0x106808cc0>"
      ]
     },
     "metadata": {},
     "output_type": "display_data"
    }
   ],
   "source": [
    "company_resp = complaints['Company response'].value_counts()\n",
    "company_resp.head().plot(title='Types of Responses made by companies\\nDec. 2014', kind = 'bar')"
   ]
  },
  {
   "cell_type": "markdown",
   "metadata": {},
   "source": [
    "## Complaints measured by company response\n",
    "The vast majority (approximately 8000) of customer complaints received in December of 2014 were resolved by closing the complaint file with an explanation.  A much smaller number, approximately 1000 complaints, were resolved with non-monetary relief.  Many complaints were about attempted collections of money not actually owed, so this is probably what happened in many of these cases. Note that some cases are still in prograss as of the date of data collection."
   ]
  },
  {
   "cell_type": "markdown",
   "metadata": {},
   "source": [
    "## Mean number of complaints by day of the week"
   ]
  },
  {
   "cell_type": "code",
   "execution_count": 16,
   "metadata": {
    "collapsed": false
   },
   "outputs": [
    {
     "ename": "TypeError",
     "evalue": "'int' object is not callable",
     "output_type": "error",
     "traceback": [
      "\u001b[0;31m---------------------------------------------------------------------------\u001b[0m",
      "\u001b[0;31mTypeError\u001b[0m                                 Traceback (most recent call last)",
      "\u001b[0;32m<ipython-input-16-c6b0cd1b34ec>\u001b[0m in \u001b[0;36m<module>\u001b[0;34m()\u001b[0m\n\u001b[1;32m     17\u001b[0m \u001b[0mdate_complaints\u001b[0m\u001b[0;34m.\u001b[0m\u001b[0mday_of_week\u001b[0m\u001b[0;34m.\u001b[0m\u001b[0mvalue_counts\u001b[0m\u001b[0;34m(\u001b[0m\u001b[0msort\u001b[0m\u001b[0;34m=\u001b[0m\u001b[0;32mFalse\u001b[0m\u001b[0;34m)\u001b[0m\u001b[0;34m.\u001b[0m\u001b[0mplot\u001b[0m\u001b[0;34m(\u001b[0m\u001b[0mkind\u001b[0m \u001b[0;34m=\u001b[0m \u001b[0;34m'bar'\u001b[0m\u001b[0;34m)\u001b[0m\u001b[0;34m\u001b[0m\u001b[0m\n\u001b[1;32m     18\u001b[0m \u001b[0;34m\u001b[0m\u001b[0m\n\u001b[0;32m---> 19\u001b[0;31m \u001b[0mdate_complaints\u001b[0m\u001b[0;34m[\u001b[0m\u001b[0;34m'day_of_week'\u001b[0m\u001b[0;34m]\u001b[0m \u001b[0;34m=\u001b[0m \u001b[0mdate_complaints\u001b[0m\u001b[0;34m.\u001b[0m\u001b[0mindex\u001b[0m\u001b[0;34m.\u001b[0m\u001b[0mto_series\u001b[0m\u001b[0;34m(\u001b[0m\u001b[0;34m)\u001b[0m\u001b[0;34m.\u001b[0m\u001b[0mmap\u001b[0m\u001b[0;34m(\u001b[0m\u001b[0;32mlambda\u001b[0m \u001b[0md\u001b[0m\u001b[0;34m:\u001b[0m \u001b[0md\u001b[0m\u001b[0;34m.\u001b[0m\u001b[0mdayofweek\u001b[0m\u001b[0;34m(\u001b[0m\u001b[0;34m)\u001b[0m\u001b[0;34m)\u001b[0m\u001b[0;34m\u001b[0m\u001b[0m\n\u001b[0m",
      "\u001b[0;32m/Users/krauh/tiy/week4/complaints/.direnv/python-3.4.3/lib/python3.4/site-packages/pandas/core/series.py\u001b[0m in \u001b[0;36mmap\u001b[0;34m(self, arg, na_action)\u001b[0m\n\u001b[1;32m   2014\u001b[0m                                      index=self.index).__finalize__(self)\n\u001b[1;32m   2015\u001b[0m         \u001b[0;32melse\u001b[0m\u001b[0;34m:\u001b[0m\u001b[0;34m\u001b[0m\u001b[0m\n\u001b[0;32m-> 2016\u001b[0;31m             \u001b[0mmapped\u001b[0m \u001b[0;34m=\u001b[0m \u001b[0mmap_f\u001b[0m\u001b[0;34m(\u001b[0m\u001b[0mvalues\u001b[0m\u001b[0;34m,\u001b[0m \u001b[0marg\u001b[0m\u001b[0;34m)\u001b[0m\u001b[0;34m\u001b[0m\u001b[0m\n\u001b[0m\u001b[1;32m   2017\u001b[0m             return self._constructor(mapped,\n\u001b[1;32m   2018\u001b[0m                                      index=self.index).__finalize__(self)\n",
      "\u001b[0;32mpandas/src/inference.pyx\u001b[0m in \u001b[0;36mpandas.lib.map_infer (pandas/lib.c:58435)\u001b[0;34m()\u001b[0m\n",
      "\u001b[0;32m<ipython-input-16-c6b0cd1b34ec>\u001b[0m in \u001b[0;36m<lambda>\u001b[0;34m(d)\u001b[0m\n\u001b[1;32m     17\u001b[0m \u001b[0mdate_complaints\u001b[0m\u001b[0;34m.\u001b[0m\u001b[0mday_of_week\u001b[0m\u001b[0;34m.\u001b[0m\u001b[0mvalue_counts\u001b[0m\u001b[0;34m(\u001b[0m\u001b[0msort\u001b[0m\u001b[0;34m=\u001b[0m\u001b[0;32mFalse\u001b[0m\u001b[0;34m)\u001b[0m\u001b[0;34m.\u001b[0m\u001b[0mplot\u001b[0m\u001b[0;34m(\u001b[0m\u001b[0mkind\u001b[0m \u001b[0;34m=\u001b[0m \u001b[0;34m'bar'\u001b[0m\u001b[0;34m)\u001b[0m\u001b[0;34m\u001b[0m\u001b[0m\n\u001b[1;32m     18\u001b[0m \u001b[0;34m\u001b[0m\u001b[0m\n\u001b[0;32m---> 19\u001b[0;31m \u001b[0mdate_complaints\u001b[0m\u001b[0;34m[\u001b[0m\u001b[0;34m'day_of_week'\u001b[0m\u001b[0;34m]\u001b[0m \u001b[0;34m=\u001b[0m \u001b[0mdate_complaints\u001b[0m\u001b[0;34m.\u001b[0m\u001b[0mindex\u001b[0m\u001b[0;34m.\u001b[0m\u001b[0mto_series\u001b[0m\u001b[0;34m(\u001b[0m\u001b[0;34m)\u001b[0m\u001b[0;34m.\u001b[0m\u001b[0mmap\u001b[0m\u001b[0;34m(\u001b[0m\u001b[0;32mlambda\u001b[0m \u001b[0md\u001b[0m\u001b[0;34m:\u001b[0m \u001b[0md\u001b[0m\u001b[0;34m.\u001b[0m\u001b[0mdayofweek\u001b[0m\u001b[0;34m(\u001b[0m\u001b[0;34m)\u001b[0m\u001b[0;34m)\u001b[0m\u001b[0;34m\u001b[0m\u001b[0m\n\u001b[0m",
      "\u001b[0;31mTypeError\u001b[0m: 'int' object is not callable"
     ]
    },
    {
     "data": {
      "image/png": "[encoded data removed]",
      "text/plain": [
       "<matplotlib.figure.Figure at 0x1076c0c50>"
      ]
     },
     "metadata": {},
     "output_type": "display_data"
    }
   ],
   "source": [
    "date_complaints = complaints.copy()\n",
    "date_complaints = date_complaints.pop('Date received')\n",
    "\n",
    "date_complaints.index = pd.to_datetime(date_complaints, format='%m/%d/%Y')\n",
    "\n",
    "date_complaints['day_of_week'] = date_complaints.index.dayofweek\n",
    "date_complaints.replace({'day_of_week':\n",
    "                         {0: 'Monday',\n",
    "                          1: 'Tuesday',\n",
    "                          2: 'Wednesday',\n",
    "                          3: 'Thursday',\n",
    "                          4: 'Friday',\n",
    "                          5: 'Saturday',\n",
    "                          6: 'Sunday'}}) \\\n",
    "                .day_of_week.value_counts(sort=False)\n",
    "\n",
    "date_complaints.day_of_week.value_counts(sort=False).plot(kind = 'bar')\n",
    "\n",
    "# date_complaints['day_of_week'] = date_complaints.index.to_series().map(lambda d: d.dayofweek())"
   ]
  },
  {
   "cell_type": "markdown",
   "metadata": {},
   "source": [
    "## Consumer Complaints by Day of the Week\n",
    "The days of the week begin with Monday and end with Sunday in this graph.  Monday, Tuesday and Wednesday see the highest volume of complaints in an average week, while, not surprisingly, Saturday and Sunday see fewer complaints.  It is possible that part of the reason that weekends see fewer complaints is that of the avenues available for filing complaints, only the Internet is available.  On weekdays, mail is received, as well as email and phone calls."
   ]
  },
  {
   "cell_type": "code",
   "execution_count": null,
   "metadata": {
    "collapsed": false
   },
   "outputs": [],
   "source": [
    "date_counts = date_complaints['Complaint ID'].resample('d', how=['count'])"
   ]
  },
  {
   "cell_type": "code",
   "execution_count": null,
   "metadata": {
    "collapsed": false
   },
   "outputs": [],
   "source": [
    "date_counts['weekday'] = date_counts.index.weekday\n",
    "date_counts[date_counts.weekday == 0].mean"
   ]
  },
  {
   "cell_type": "code",
   "execution_count": null,
   "metadata": {
    "collapsed": false
   },
   "outputs": [],
   "source": [
    "dow_mean = [date_counts[date_counts.weekday == dow].mean()['count'] for dow in range(7)]\n",
    "pd.DataFrame(dow_mean).rename(columns={0: 'mean'}).plot(kind='bar')"
   ]
  },
  {
   "cell_type": "code",
   "execution_count": null,
   "metadata": {
    "collapsed": true
   },
   "outputs": [],
   "source": []
  }
 ],
 "metadata": {
  "kernelspec": {
   "display_name": "Python 3",
   "language": "python",
   "name": "python3"
  },
  "language_info": {
   "codemirror_mode": {
    "name": "ipython",
    "version": 3
   },
   "file_extension": ".py",
   "mimetype": "text/x-python",
   "name": "python",
   "nbconvert_exporter": "python",
   "pygments_lexer": "ipython3",
   "version": "3.4.3"
  }
 },
 "nbformat": 4,
 "nbformat_minor": 0
}
