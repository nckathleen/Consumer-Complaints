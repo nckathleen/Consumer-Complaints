{
 "cells": [
  {
   "cell_type": "code",
   "execution_count": 3,
   "metadata": {
    "collapsed": true
   },
   "outputs": [],
   "source": [
    "import pandas as pd\n",
    "import numpy as np\n",
    "import matplotlib.pyplot as plt\n"
   ]
  },
  {
   "cell_type": "code",
   "execution_count": 4,
   "metadata": {
    "collapsed": true
   },
   "outputs": [],
   "source": [
    "%matplotlib inline"
   ]
  },
  {
   "cell_type": "code",
   "execution_count": 5,
   "metadata": {
    "collapsed": false
   },
   "outputs": [],
   "source": [
    "complaints = pd.read_csv('complaints_dec_2014.csv')"
   ]
  },
  {
   "cell_type": "code",
   "execution_count": 6,
   "metadata": {
    "collapsed": false
   },
   "outputs": [
    {
     "name": "stdout",
     "output_type": "stream",
     "text": [
      "Complaint ID,Product,Sub-product,Issue,Sub-issue,State,ZIP code,Submitted via,Date received,Date sent to company,Company,Company response,Timely response?,Consumer disputed?\r\n",
      "1177167,Debt collection,,Cont'd attempts collect debt not owed,Debt is not mine,TX,77068,Web,12/31/2014,12/31/2014,Ad Astra Recovery Services Inc,Closed with explanation,Yes,\r\n",
      "1177166,Debt collection,,Cont'd attempts collect debt not owed,Debt is not mine,TX,77068,Web,12/31/2014,12/31/2014,\"Unique Management Services, Inc\",Closed with explanation,Yes,\r\n",
      "1177165,Debt collection,,Cont'd attempts collect debt not owed,Debt is not mine,TX,77068,Web,12/31/2014,12/31/2014,\"CL Holdings, LLC\",Closed with monetary relief,Yes,\r\n",
      "1177164,Debt collection,,Cont'd attempts collect debt not owed,Debt is not mine,TX,77068,Web,12/31/2014,12/31/2014,\"Enhanced Recovery Company, LLC\",Closed with non-monetary relief,Yes,\r\n",
      "1177163,Debt collection,,Cont'd attempts collect debt not owed,Debt is not mine,TX,77068,Web,12/31/2014,12/31/2014,\"Enhanced Acquisitions, LLC\",Closed with explanation,Yes,\r\n",
      "1177162,Debt collection,,Cont'd attempts collect debt not owed,Debt is not mine,TX,77068,Web,12/31/2014,12/31/2014,\"Credit Systems International, Inc.\",Closed with explanation,Yes,\r\n",
      "1177154,Credit card,,Billing disputes,,GA,31322,Web,12/31/2014,01/07/2015,Amex,Closed with explanation,Yes,\r\n",
      "1177143,Debt collection,Payday loan,Taking/threatening an illegal action,Threatened arrest/jail if do not pay,AZ,85023,Web,12/31/2014,01/07/2015,Speedy Cash Holdings,Closed,Yes,\r\n",
      "1177140,Debt collection,,Cont'd attempts collect debt not owed,Debt is not mine,TX,77045,Web,12/31/2014,12/31/2014,\"Afni, Inc.\",Closed with explanation,Yes,\r\n"
     ]
    }
   ],
   "source": [
    "!head complaints_dec_2014.csv"
   ]
  },
  {
   "cell_type": "code",
   "execution_count": 7,
   "metadata": {
    "collapsed": false
   },
   "outputs": [],
   "source": [
    "# !tail complaints_dec_2014.csv"
   ]
  },
  {
   "cell_type": "code",
   "execution_count": 8,
   "metadata": {
    "collapsed": false
   },
   "outputs": [],
   "source": [
    "# complaints.head(5)"
   ]
  },
  {
   "cell_type": "code",
   "execution_count": 9,
   "metadata": {
    "collapsed": false
   },
   "outputs": [],
   "source": [
    "# complaints['Product'].head"
   ]
  },
  {
   "cell_type": "code",
   "execution_count": 10,
   "metadata": {
    "collapsed": false
   },
   "outputs": [],
   "source": [
    "product_series = complaints.Product"
   ]
  },
  {
   "cell_type": "code",
   "execution_count": 11,
   "metadata": {
    "collapsed": false
   },
   "outputs": [
    {
     "data": {
      "text/plain": [
       "0    Debt collection\n",
       "1    Debt collection\n",
       "2    Debt collection\n",
       "3    Debt collection\n",
       "4    Debt collection\n",
       "5    Debt collection\n",
       "6        Credit card\n",
       "7    Debt collection\n",
       "8    Debt collection\n",
       "9    Debt collection\n",
       "Name: Product, dtype: object"
      ]
     },
     "execution_count": 11,
     "metadata": {},
     "output_type": "execute_result"
    }
   ],
   "source": [
    "product_series.head(10)"
   ]
  },
  {
   "cell_type": "code",
   "execution_count": 12,
   "metadata": {
    "collapsed": false
   },
   "outputs": [],
   "source": [
    "# complaints.sort('Product', ascending=True)"
   ]
  },
  {
   "cell_type": "code",
   "execution_count": 13,
   "metadata": {
    "collapsed": false
   },
   "outputs": [],
   "source": [
    "product_count = complaints.Product.value_counts()"
   ]
  },
  {
   "cell_type": "code",
   "execution_count": 14,
   "metadata": {
    "collapsed": false
   },
   "outputs": [
    {
     "data": {
      "text/plain": [
       "Mortgage                   3002\n",
       "Debt collection            2942\n",
       "Credit reporting           2113\n",
       "Bank account or service    1136\n",
       "Credit card                1100\n",
       "Consumer loan               578\n",
       "Student loan                340\n",
       "Payday loan                 141\n",
       "Money transfers             107\n",
       "Prepaid card                 70\n",
       "Other financial service      14\n",
       "dtype: int64"
      ]
     },
     "execution_count": 14,
     "metadata": {},
     "output_type": "execute_result"
    }
   ],
   "source": [
    "product_count\n"
   ]
  },
  {
   "cell_type": "code",
   "execution_count": 15,
   "metadata": {
    "collapsed": false
   },
   "outputs": [
    {
     "data": {
      "text/plain": [
       "<matplotlib.axes._subplots.AxesSubplot at 0x106401978>"
      ]
     },
     "execution_count": 15,
     "metadata": {},
     "output_type": "execute_result"
    },
    {
     "data": {
      "image/png": "[encoded data removed]",
      "text/plain": [
       "<matplotlib.figure.Figure at 0x10757b860>"
      ]
     },
     "metadata": {},
     "output_type": "display_data"
    }
   ],
   "source": [
    "product_count.plot(kind = 'bar')\n",
    "\n",
    "# df = pd.DataFrame(values, columns=['Type A', 'Type B'], index=['Index 1','Index 2'])\n",
    "# df.columns.name = 'Type'\n",
    "# df.index.name = 'Index'\n",
    "# df.plot(lw=2, colormap='jet', marker='.', markersize=10, title='Video streaming dropout by category')\n"
   ]
  },
  {
   "cell_type": "markdown",
   "metadata": {},
   "source": [
    "We can see that consumer complaints about mortgage related issues and debt collection issues are the most frequently occuring.  However, every one of the products which have received the highest number of complaints are in the financial services industry."
   ]
  },
  {
   "cell_type": "code",
   "execution_count": 16,
   "metadata": {
    "collapsed": true
   },
   "outputs": [],
   "source": [
    "company_series = complaints.Company"
   ]
  },
  {
   "cell_type": "code",
   "execution_count": 17,
   "metadata": {
    "collapsed": false
   },
   "outputs": [
    {
     "data": {
      "text/plain": [
       "0        Ad Astra Recovery Services Inc\n",
       "1       Unique Management Services, Inc\n",
       "2                      CL Holdings, LLC\n",
       "3        Enhanced Recovery Company, LLC\n",
       "4            Enhanced Acquisitions, LLC\n",
       "5    Credit Systems International, Inc.\n",
       "6                                  Amex\n",
       "7                  Speedy Cash Holdings\n",
       "8                            Afni, Inc.\n",
       "9        Enhanced Recovery Company, LLC\n",
       "Name: Company, dtype: object"
      ]
     },
     "execution_count": 17,
     "metadata": {},
     "output_type": "execute_result"
    }
   ],
   "source": [
    "company_series.head(10)"
   ]
  },
  {
   "cell_type": "code",
   "execution_count": 18,
   "metadata": {
    "collapsed": false
   },
   "outputs": [
    {
     "name": "stdout",
     "output_type": "stream",
     "text": [
      "Bank of America                           766\n",
      "Equifax                                   737\n",
      "Experian                                  675\n",
      "TransUnion                                604\n",
      "Wells Fargo                               598\n",
      "JPMorgan Chase                            545\n",
      "Ocwen                                     408\n",
      "Citibank                                  403\n",
      "Nationstar Mortgage                       357\n",
      "Capital One                               252\n",
      "U.S. Bancorp                              203\n",
      "Navient                                   177\n",
      "GE Capital Retail                         175\n",
      "Green Tree Servicing, LLC                 174\n",
      "Encore Capital Group                      156\n",
      "Amex                                      130\n",
      "PNC Bank                                  128\n",
      "Select Portfolio Servicing, Inc           117\n",
      "TD Bank                                   109\n",
      "HSBC                                      102\n",
      "Portfolio Recovery Associates, Inc.        98\n",
      "Enhanced Recovery Company, LLC             87\n",
      "Transworld Systems Inc.                    79\n",
      "Discover                                   70\n",
      "Ally Financial Inc.                        59\n",
      "SunTrust Bank                              57\n",
      "RBS Citizens                               55\n",
      "Seterus                                    54\n",
      "Barclays                                   52\n",
      "PayPal                                     50\n",
      "                                         ... \n",
      "Dominion Law Associates, P.L.L.C.           1\n",
      "Wakpamni Lake Community Corporation         1\n",
      "Maury Cobb, Attorney at Law, LLC            1\n",
      "Amplify Revenue Solutions, LLC              1\n",
      "Tammac Holdings                             1\n",
      "Stenger & Stenger, P.C                      1\n",
      "Blackhawk Network Holdings Inc.             1\n",
      "ISIS SECURITY INFORMATION SYSTEMS INC.      1\n",
      "MEFA                                        1\n",
      "Phoenix Financial Services LLC              1\n",
      "Holloway Credit Solutions                   1\n",
      "C & M Associates Group, Inc.                1\n",
      "Balanced Healthcare Receivables LLC         1\n",
      "Watermark Capital, INC.                     1\n",
      "PLS GROUP, INC                              1\n",
      "Westgate Arbitration INC                    1\n",
      "Apothaker & Associates, PC                  1\n",
      "Planet Home Lending, LLC                    1\n",
      "Emerald Canyon Capital, LLC                 1\n",
      "Niagara Credit Recovery                     1\n",
      "Contract Resolve Group LLC                  1\n",
      "Bryant Bryant & Associates LLC              1\n",
      "NRG STX Properties, LLC                     1\n",
      "RentDebt Automated Collections, LLC         1\n",
      "The Moore Law Group                         1\n",
      "Account Management Services, Inc.           1\n",
      "RMB, Inc.                                   1\n",
      "Advantage Financial Services, LLC           1\n",
      "Armor Systems Corporation                   1\n",
      "ALPHA COLLECTION SERVICES                   1\n",
      "dtype: int64\n"
     ]
    }
   ],
   "source": [
    "company_count = complaints.Company.value_counts()\n",
    "print(company_count)"
   ]
  },
  {
   "cell_type": "code",
   "execution_count": 19,
   "metadata": {
    "collapsed": false
   },
   "outputs": [
    {
     "data": {
      "text/plain": [
       "Bank of America        766\n",
       "Equifax                737\n",
       "Experian               675\n",
       "TransUnion             604\n",
       "Wells Fargo            598\n",
       "JPMorgan Chase         545\n",
       "Ocwen                  408\n",
       "Citibank               403\n",
       "Nationstar Mortgage    357\n",
       "Capital One            252\n",
       "dtype: int64"
      ]
     },
     "execution_count": 19,
     "metadata": {},
     "output_type": "execute_result"
    }
   ],
   "source": [
    "company_count.head(10)"
   ]
  },
  {
   "cell_type": "code",
   "execution_count": 20,
   "metadata": {
    "collapsed": false
   },
   "outputs": [
    {
     "data": {
      "text/plain": [
       "<matplotlib.axes._subplots.AxesSubplot at 0x106671da0>"
      ]
     },
     "execution_count": 20,
     "metadata": {},
     "output_type": "execute_result"
    },
    {
     "data": {
      "image/png": "[encoded data removed]",
      "text/plain": [
       "<matplotlib.figure.Figure at 0x1065349b0>"
      ]
     },
     "metadata": {},
     "output_type": "display_data"
    }
   ],
   "source": [
    "company_count.head(10).plot(kind = 'bar')"
   ]
  },
  {
   "cell_type": "markdown",
   "metadata": {},
   "source": [
    "There appears to be the highest rate of consumer dissatisfaction within the financial services industry, particularly lenders and credit bureaus."
   ]
  },
  {
   "cell_type": "code",
   "execution_count": 27,
   "metadata": {
    "collapsed": false
   },
   "outputs": [
    {
     "name": "stdout",
     "output_type": "stream",
     "text": [
      "Closed with explanation            8185\n",
      "Closed with non-monetary relief    1253\n",
      "In progress                        1056\n",
      "Closed with monetary relief         643\n",
      "Closed                              239\n",
      "Untimely response                   167\n",
      "dtype: int64\n"
     ]
    }
   ],
   "source": [
    "company_series = complaints['Company response'].value_counts()\n",
    "print(company_series)"
   ]
  },
  {
   "cell_type": "code",
   "execution_count": 28,
   "metadata": {
    "collapsed": false
   },
   "outputs": [
    {
     "data": {
      "text/plain": [
       "<matplotlib.axes._subplots.AxesSubplot at 0x106544a20>"
      ]
     },
     "execution_count": 28,
     "metadata": {},
     "output_type": "execute_result"
    },
    {
     "data": {
      "image/png": "[encoded data removed]",
      "text/plain": [
       "<matplotlib.figure.Figure at 0x103283320>"
      ]
     },
     "metadata": {},
     "output_type": "display_data"
    }
   ],
   "source": [
    "company_count.head(10).plot(kind = 'bar')"
   ]
  },
  {
   "cell_type": "code",
   "execution_count": null,
   "metadata": {
    "collapsed": true
   },
   "outputs": [],
   "source": [
    "company_count.plot"
   ]
  }
 ],
 "metadata": {
  "kernelspec": {
   "display_name": "Python 3",
   "language": "python",
   "name": "python3"
  },
  "language_info": {
   "codemirror_mode": {
    "name": "ipython",
    "version": 3
   },
   "file_extension": ".py",
   "mimetype": "text/x-python",
   "name": "python",
   "nbconvert_exporter": "python",
   "pygments_lexer": "ipython3",
   "version": "3.4.3"
  }
 },
 "nbformat": 4,
 "nbformat_minor": 0
}
